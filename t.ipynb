{
 "cells": [
  {
   "cell_type": "markdown",
   "id": "fd68d691",
   "metadata": {},
   "source": [
    "# tutorial-RidgeFBA\n",
    "\n",
    "This tutorial serves as a reference to get started with `RidgeFBA`. Download the live notebook from [here](https://github.com/opencobra/COBRA.jl/tree/master/tutorials).\n",
    "\n",
    "If you are not familiar with `COBRA.jl`, or how `COBRA.jl` should be installed, please refer to the tutorial on `COBRA.jl`.\n",
    "\n"
   ]
  },
  {
   "cell_type": "markdown",
   "id": "3d596669",
   "metadata": {},
   "source": [
    "`RidgeFBA` is a member of COBRA analyses family. It returns a unique flux distribution which is also more consistent with the actual values comparing to the similar methods.\n"
   ]
  },
  {
   "cell_type": "markdown",
   "id": "67c531e1",
   "metadata": {},
   "source": [
    "`RidgeFBA` solves the following quadratic programming to find a context-specific objective function:\n"
   ]
  },
  {
   "cell_type": "markdown",
   "id": "c10d4d86",
   "metadata": {},
   "source": [
    "*Minimize:*\n",
    "\n",
    "\n",
    "$$cv - 𝑹∗\\parallel v \\parallel_2$$\n",
    "\n",
    "*Subject to:*\n",
    "\n",
    "$$Sv=0$$\n",
    "\n",
    "$$v_j \\geq 0 \\quad \\forall j \\in I$$\n",
    " "
   ]
  },
  {
   "cell_type": "markdown",
   "id": "35d1b960",
   "metadata": {},
   "source": [
    "Where R is regularization coefficient, v is flux vector, S is stoichiometric matrix and I is the set of irreversible reactions. \n"
   ]
  },
  {
   "cell_type": "markdown",
   "id": "65e19dff",
   "metadata": {},
   "source": [
    "## Prerequisites\n",
    "\n",
    "`RidgeFBA` reads SBML models by [SBML.jl](https://github.com/LCSB-BioCore/SBML.jl),\n",
    "models the optimization problem by [JuMP.jl](https://github.com/jump-dev/JuMP.jl)\n",
    "and uses [Ipopt.jl](https://github.com/jump-dev/Ipopt.jl) as the solver.\n",
    "\n",
    "So these three packages are required to run `RidgeFBA`,\n",
    "in addition [HTTP.jl](https://github.com/JuliaWeb/HTTP.jl) and [Test.jl](https://github.com/JuliaLang/julia/blob/master/stdlib/Test/src/Test.jl) are needed\n",
    "to run the test for this function. \n",
    "\n",
    "They can be installed as follows:"
   ]
  },
  {
   "cell_type": "code",
   "execution_count": null,
   "id": "eecc14ec",
   "metadata": {},
   "outputs": [],
   "source": [
    "using Pkg\n",
    "Pkg.add(\"COBRA\")\n",
    "Pkg.add(\"JuMP\")\n",
    "Pkg.add(\"Ipopt\")\n",
    "Pkg.add(\"SBML\")"
   ]
  },
  {
   "cell_type": "markdown",
   "id": "0c412715",
   "metadata": {},
   "source": [
    "This function can be called simply, by a single line of code:\n"
   ]
  },
  {
   "cell_type": "code",
   "execution_count": null,
   "id": "e1a3f4a9",
   "metadata": {},
   "outputs": [],
   "source": [
    "using COBRA\n",
    "flux_vector=RidgeFBA(metabolic_model,c,lambda)"
   ]
  },
  {
   "cell_type": "markdown",
   "id": "a0705884",
   "metadata": {},
   "source": [
    "\n",
    " #### Input:\n",
    "  **metabolic model**: Metabolic models contain stoichiometric matrix above all, and also other informations such as flux boundaries and Gene-Protein-Reaction rules. They can be found in different formats including .xml. Metabolic models can be downloaded from [BiGG Models](http://bigg.ucsd.edu/) or elsewhere.\n",
    "  \n",
    "  **c**: A vector with the same length as the metabolic model reactions, determining the objective function.\n",
    "  For example, if biomass is meant to be the objective function, the corresponding element in c vector is set to 1 and the others are zero. \n",
    "  \n",
    "  **lambda**: Regularization coefficient for the L2 norm term in the objective function of the optimization problem. The larger lambda, the smaller the flux vector.\n",
    "  \n",
    " #### Output:\n",
    "  **flux_vector**: It is the calculated flux distribution, which is of type Vector{Float64} (a vector whose elements are Float64), So this can be indexed and used like any other vector. \n",
    "  \n"
   ]
  },
  {
   "cell_type": "markdown",
   "id": "641b2d45",
   "metadata": {},
   "source": [
    "The following is an example in which `RidgeFBA` is used to find the flux distribution for *E. coli* when the biomass reaction is set as objective function "
   ]
  },
  {
   "cell_type": "code",
   "execution_count": null,
   "id": "7198c733",
   "metadata": {},
   "outputs": [],
   "source": [
    "# Downloading the metabolic model\n",
    "ecoli_model=HTTP.get(\"http://bigg.ucsd.edu/static/models/e_coli_core.xml\")\n",
    "write(\"e_coli_core.xml\",ecoli_model.body)\n",
    "ecoli_metabolic_model=readSBML(\"e_coli_core.xml\")\n",
    "\n",
    "\n",
    " "
   ]
  },
  {
   "cell_type": "code",
   "execution_count": null,
   "id": "99fc556d",
   "metadata": {},
   "outputs": [],
   "source": [
    "#The name of the reactions are extracted as a vector.\n",
    "reaction_names_keySet=keys(ecoli_metabolic_model.reactions)\n",
    "reaction_names=[]\n",
    "for item in reaction_names_keySet\n",
    "    push!(reaction_names,item)\n",
    "\n",
    "end\n"
   ]
  },
  {
   "cell_type": "code",
   "execution_count": null,
   "id": "13893d9f",
   "metadata": {},
   "outputs": [],
   "source": [
    "#Obtaining the biomass reaction index\n",
    "for n in 1:length(ecoli_metabolic_model.reactions)\n",
    "    \n",
    "    if occursin(\"BIOMASS\" , reaction_names[n])\n",
    "        global biomass_index=n\n",
    "    end\n",
    "end\n"
   ]
  },
  {
   "cell_type": "code",
   "execution_count": null,
   "id": "2c9cf918",
   "metadata": {},
   "outputs": [],
   "source": [
    "#As biomass is set as objective function the corresponding element in c vector is set to 1\n",
    "c_test=zeros(1,length(ecoli_metabolic_model.reactions))\n",
    "c_test[biomass_index]=1\n"
   ]
  },
  {
   "cell_type": "code",
   "execution_count": null,
   "id": "01119eb5",
   "metadata": {},
   "outputs": [],
   "source": [
    "#running RidgeFBA\n",
    "flux_vector=RidgeFBA(ecoli_metabolic_model,c_test,10^-5)       "
   ]
  }
 ],
 "metadata": {
  "kernelspec": {
   "display_name": "Julia 1.6.3",
   "language": "julia",
   "name": "julia-1.6"
  },
  "language_info": {
   "file_extension": ".jl",
   "mimetype": "application/julia",
   "name": "julia",
   "version": "1.6.3"
  }
 },
 "nbformat": 4,
 "nbformat_minor": 5
}
